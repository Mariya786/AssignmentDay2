{
 "cells": [
  {
   "cell_type": "code",
   "execution_count": 1,
   "metadata": {},
   "outputs": [
    {
     "name": "stdout",
     "output_type": "stream",
     "text": [
      "1\n",
      "2\n",
      "3\n",
      "4\n",
      "5\n",
      "6\n",
      "7\n",
      "8\n",
      "9\n",
      "10\n",
      "28\n",
      "[2, 4, 6, 8, 10, 28]\n"
     ]
    }
   ],
   "source": [
    "#Question 1\n",
    "num = []\n",
    "for i in range(11):\n",
    "    a=int(input())\n",
    "    if(a%2==0):\n",
    "        num.append(a)\n",
    "print(num)"
   ]
  },
  {
   "cell_type": "raw",
   "metadata": {},
   "source": [
    "#Question 2\n",
    "List comprehensions provide us with a simple way to create a list based on some iterable. During the creation, elements from the iterable can be conditionally included in the new list and transformed as needed.\n",
    "The components of a list comprehension are:\n",
    "\n",
    "1. Output Expression (Optional)\n",
    "2. Iterable\n",
    "3. Iterator variable which represents the members of the iterable"
   ]
  },
  {
   "cell_type": "code",
   "execution_count": 2,
   "metadata": {},
   "outputs": [
    {
     "name": "stdout",
     "output_type": "stream",
     "text": [
      "[1, 4, 9, 16, 25]\n"
     ]
    }
   ],
   "source": [
    "#Example\n",
    "numbers = [1, 2, 3, 4, 5]\n",
    "squares = [number**2 for number in numbers]\n",
    "print(squares)"
   ]
  },
  {
   "cell_type": "code",
   "execution_count": 3,
   "metadata": {},
   "outputs": [
    {
     "name": "stdout",
     "output_type": "stream",
     "text": [
      "[9, 16, 25]\n"
     ]
    }
   ],
   "source": [
    "#We can also create more advanced list comprehensions which include a conditional statement on the iterable.\n",
    "numbers = [1, 2, 3, 4, 5]\n",
    "squares = [number**2 for number in numbers if number > 2]\n",
    "print(squares)"
   ]
  },
  {
   "cell_type": "code",
   "execution_count": 4,
   "metadata": {},
   "outputs": [
    {
     "name": "stdout",
     "output_type": "stream",
     "text": [
      "[9, 16, 25]\n"
     ]
    }
   ],
   "source": [
    "# The list comprehensions are more efficient both computationally and in terms of coding space and time than a for loop. \n",
    "#Typically, they are written in a single line of code.\n",
    "numbers = [1, 2, 3, 4, 5]\n",
    "squares = []\n",
    "for number in numbers:\n",
    "    if number > 2:\n",
    "        squares.append(number**2)\n",
    "print(squares)\n"
   ]
  },
  {
   "cell_type": "code",
   "execution_count": 5,
   "metadata": {},
   "outputs": [
    {
     "name": "stdout",
     "output_type": "stream",
     "text": [
      "4\n",
      "{1: 1, 2: 4, 3: 9, 4: 16}"
     ]
    }
   ],
   "source": [
    "#Question 3\n",
    "n=int(input())\n",
    "d={}\n",
    "for i in range(n):\n",
    "  d[i+1]=(i+1)**2\n",
    "\n",
    "print(d,end=\"\")"
   ]
  },
  {
   "cell_type": "code",
   "execution_count": null,
   "metadata": {},
   "outputs": [],
   "source": [
    "#Question 4\n",
    "import math\n",
    "pos = [0,0]\n",
    "n = int(input())\n",
    "for i in range(n):\n",
    "    s = input()\n",
    "\n",
    "    movement = s.split(\" \")\n",
    "    direction = movement[0]\n",
    "    steps = int(movement[1])\n",
    "    \n",
    "    if direction==\"UP\":\n",
    "        pos[0]+=steps\n",
    "    elif direction==\"DOWN\":\n",
    "        pos[0]-=steps\n",
    "    elif direction==\"LEFT\":\n",
    "        pos[1]-=steps\n",
    "    elif direction==\"RIGHT\":\n",
    "        pos[1]+=steps\n",
    "    else:\n",
    "        pass\n",
    "print(int(round(math.sqrt(pos[1]**2+pos[0]**2))))\n"
   ]
  }
 ],
 "metadata": {
  "kernelspec": {
   "display_name": "Python 3",
   "language": "python",
   "name": "python3"
  },
  "language_info": {
   "codemirror_mode": {
    "name": "ipython",
    "version": 3
   },
   "file_extension": ".py",
   "mimetype": "text/x-python",
   "name": "python",
   "nbconvert_exporter": "python",
   "pygments_lexer": "ipython3",
   "version": "3.8.3"
  }
 },
 "nbformat": 4,
 "nbformat_minor": 4
}
